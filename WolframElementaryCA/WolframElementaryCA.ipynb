{
 "cells": [
  {
   "cell_type": "markdown",
   "metadata": {},
   "source": [
    "# Wolfram Elementary Cellular Automaton"
   ]
  },
  {
   "cell_type": "markdown",
   "metadata": {},
   "source": [
    "This is an implementation of the Wolfram Elementary Cellular Automaton into the Python scripting language (version 3.6). For further information on the Cellular Automaton (CA) described by Wolfram, see [WolframMathworld](http://mathworld.wolfram.com/ElementaryCellularAutomaton.html)"
   ]
  },
  {
   "cell_type": "code",
   "execution_count": 18,
   "metadata": {},
   "outputs": [],
   "source": [
    "import WolframElementaryCA as weca\n",
    "import matplotlib.pyplot as plt\n",
    "import numpy as np"
   ]
  },
  {
   "cell_type": "code",
   "execution_count": 19,
   "metadata": {},
   "outputs": [
    {
     "name": "stdout",
     "output_type": "stream",
     "text": [
      "[[1, 1, 1], [1, 1, 0], [1, 0, 1], [1, 0, 0], [0, 1, 1], [0, 1, 0], [0, 0, 1], [0, 0, 0]]\n"
     ]
    }
   ],
   "source": [
    "print(weca.basic_rules)"
   ]
  },
  {
   "cell_type": "code",
   "execution_count": 28,
   "metadata": {},
   "outputs": [
    {
     "name": "stdout",
     "output_type": "stream",
     "text": [
      "[[1 1 1]]\n",
      "range(0, 2)\n",
      "[[0.5, 0.5], [1.5, 1.5]]\n",
      "[[-1, 1], [-1, 1]]\n"
     ]
    },
    {
     "data": {
      "image/png": "[encoded data removed]",
      "text/plain": [
       "<matplotlib.figure.Figure at 0x7fe93113fac8>"
      ]
     },
     "metadata": {},
     "output_type": "display_data"
    }
   ],
   "source": [
    "data =np.array(weca.basic_rules[0:1])\n",
    "print(data)\n",
    "\n",
    "# Create custom grid\n",
    "grid_x = []\n",
    "grid_y = []\n",
    "\n",
    "print(range(len(weca.basic_rules[0])-1))\n",
    "\n",
    "for i in range(len(weca.basic_rules[0])-1):\n",
    "    new_x = []\n",
    "    new_x.append(i+0.5)\n",
    "    new_x.append(i+0.5)\n",
    "    grid_x.append(new_x)\n",
    "    \n",
    "    new_y = [-1, 1]\n",
    "    grid_y.append(new_y)\n",
    "\n",
    "print(grid_x)\n",
    "print(grid_y)\n",
    "\n",
    "plt.imshow(data, interpolation='nearest', cmap='binary')\n",
    "\n",
    "for i in range(len(grid_x)):\n",
    "    plt.plot(grid_x[i], grid_y[i], color='black')\n",
    "\n",
    "# Supress axis labels and ticks.\n",
    "plt.xticks([])\n",
    "plt.yticks([])\n",
    "\n",
    "plt.ylim(-0.5, 0.5)\n",
    "\n",
    "plt.show()"
   ]
  },
  {
   "cell_type": "code",
   "execution_count": null,
   "metadata": {
    "collapsed": true
   },
   "outputs": [],
   "source": []
  },
  {
   "cell_type": "code",
   "execution_count": null,
   "metadata": {
    "collapsed": true
   },
   "outputs": [],
   "source": []
  },
  {
   "cell_type": "code",
   "execution_count": null,
   "metadata": {
    "collapsed": true
   },
   "outputs": [],
   "source": []
  },
  {
   "cell_type": "code",
   "execution_count": null,
   "metadata": {
    "collapsed": true
   },
   "outputs": [],
   "source": []
  },
  {
   "cell_type": "code",
   "execution_count": null,
   "metadata": {
    "collapsed": true
   },
   "outputs": [],
   "source": []
  },
  {
   "cell_type": "code",
   "execution_count": null,
   "metadata": {
    "collapsed": true
   },
   "outputs": [],
   "source": []
  },
  {
   "cell_type": "code",
   "execution_count": null,
   "metadata": {
    "collapsed": true
   },
   "outputs": [],
   "source": []
  },
  {
   "cell_type": "code",
   "execution_count": null,
   "metadata": {
    "collapsed": true
   },
   "outputs": [],
   "source": []
  },
  {
   "cell_type": "code",
   "execution_count": null,
   "metadata": {
    "collapsed": true
   },
   "outputs": [],
   "source": []
  }
 ],
 "metadata": {
  "kernelspec": {
   "display_name": "Python 3",
   "language": "python",
   "name": "python3"
  },
  "language_info": {
   "codemirror_mode": {
    "name": "ipython",
    "version": 3
   },
   "file_extension": ".py",
   "mimetype": "text/x-python",
   "name": "python",
   "nbconvert_exporter": "python",
   "pygments_lexer": "ipython3",
   "version": "3.6.1"
  }
 },
 "nbformat": 4,
 "nbformat_minor": 2
}
